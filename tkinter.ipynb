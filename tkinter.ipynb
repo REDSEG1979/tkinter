{
 "cells": [
  {
   "cell_type": "code",
   "execution_count": 1,
   "id": "aa958c33",
   "metadata": {},
   "outputs": [],
   "source": [
    "import tkinter as tk"
   ]
  },
  {
   "cell_type": "code",
   "execution_count": 43,
   "id": "a26feee1",
   "metadata": {},
   "outputs": [],
   "source": [
    "def fahrenheit_to_celsius():\n",
    "    fahren = float(ent_temperature.get())\n",
    "    celsius = fahren + 1\n",
    "\n",
    "    cels_temperature.delete(0, tk.END)\n",
    "    cels_temperature.insert(0, str(celsius))    "
   ]
  },
  {
   "cell_type": "code",
   "execution_count": 44,
   "id": "6ab0d874",
   "metadata": {},
   "outputs": [
    {
     "name": "stderr",
     "output_type": "stream",
     "text": [
      "Exception in Tkinter callback\n",
      "Traceback (most recent call last):\n",
      "  File \"C:\\Users\\Zouheir\\anaconda3\\envs\\nlp\\lib\\tkinter\\__init__.py\", line 1921, in __call__\n",
      "    return self.func(*args)\n",
      "  File \"C:\\Users\\Zouheir\\AppData\\Local\\Temp\\ipykernel_19980\\3372553002.py\", line 2, in fahrenheit_to_celsius\n",
      "    fahren = float(ent_temperature.get())\n",
      "ValueError: could not convert string to float: ''\n"
     ]
    }
   ],
   "source": [
    "window = tk.Tk()\n",
    "window.title(\"Tempertature converter\")\n",
    "window.resizable(width=False, height=False)\n",
    "\n",
    "fahr_frame = tk.Frame(master=window)\n",
    "ent_label = tk.Label(master=fahr_frame, text=\"Fahrenheit\")\n",
    "ent_temperature = tk.Entry(master=fahr_frame)\n",
    "\n",
    "ent_label.grid(row=0, column=0)\n",
    "ent_temperature.grid(row=1, column=0)\n",
    "\n",
    "cels_frame = tk.Frame(master=window)\n",
    "cels_label = tk.Label(master=cels_frame, text=\"Celsius\")\n",
    "cels_temperature = tk.Entry(master=cels_frame)\n",
    "\n",
    "cels_label.grid(row=0, column=0)\n",
    "cels_temperature.grid(row=1, column=0)\n",
    "\n",
    "button = tk.Button(master=window, text=\"Convert\", command=fahrenheit_to_celsius)\n",
    "\n",
    "fahr_frame.pack(padx=20, pady=20)\n",
    "cels_frame.pack(padx=20, pady=20)\n",
    "button.pack(padx=20, pady=20)\n",
    "\n",
    "\n",
    "window.mainloop()"
   ]
  },
  {
   "cell_type": "code",
   "execution_count": null,
   "id": "d61b2a66",
   "metadata": {},
   "outputs": [],
   "source": []
  }
 ],
 "metadata": {
  "kernelspec": {
   "display_name": "Python 3 (ipykernel)",
   "language": "python",
   "name": "python3"
  },
  "language_info": {
   "codemirror_mode": {
    "name": "ipython",
    "version": 3
   },
   "file_extension": ".py",
   "mimetype": "text/x-python",
   "name": "python",
   "nbconvert_exporter": "python",
   "pygments_lexer": "ipython3",
   "version": "3.10.4"
  }
 },
 "nbformat": 4,
 "nbformat_minor": 5
}
